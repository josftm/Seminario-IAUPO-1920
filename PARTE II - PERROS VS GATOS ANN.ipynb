{
 "cells": [
  {
   "cell_type": "markdown",
   "metadata": {},
   "source": [
    "<img src=\"src/logo.png\" width=\"115px\" style=\"float: right;\">\n",
    "<div>\n",
    "<h1 style=\"margin-top:10pt;\">Ejercicio 2: Perros vs gatos ANN</h1>\n",
    "<h3 style=\"margin-top:10pt;\">Inteligencia Artificial - Grado en Ingeniería Informática en Sistemas de Información</h3>\n",
    "<h4 style=\"margin-top:10pt; font-style:italic; margin-bottom:15pt\">José Francisco Torres Maldonado - jftormal@upo.es</h4>\n",
    "</div>\n",
    "\n",
    "---\n",
    "<img src=\"src/gatoVsPerro.jpg\" width=\"250\" style=\"float: left; margin-right:50px;\"/>\n",
    "\n",
    "Somos parte de una empresa tecnológica que se dedica al campo de la Inteligencia Artificial. Un refugio de animales ha contactado con nosotros para pedirnos ayuda en un proyecto: Han diseñado un mecanimo para automatizar la alimentación de los animales. Su objetivo es que dependiendo del tipo de animal que haya en el recinto, se alimente con un tipo de comida u otra a través de un sistema de tuberías que conecta con las distintas fuentes de alimentos. En estos momentos el refugio cuenta con perros y gatos de diferentes tamaños y razas. \n",
    "\n",
    "Nuestra tarea es la de diseñar un algoritmo que sea capaz de diferenciar a un perro de un gato. Para ello, vamos a implementar un modelo basado en las redes neuronales estudiadas en la asignatura.\n",
    "\n",
    "<br/><br/><br/>\n",
    "De este modo, vamos a tener que hacer varias tareas:\n",
    "\n",
    "\n",
    "- *Procesar el conjunto de datos original*\n",
    "- *Generar subconjuntos de entrenamiento y test*\n",
    "- *Entrenar el modelo predictivo*\n",
    "- *Predecir el conjunto de test*\n",
    "\n",
    "### ¿Preparados? ¡Vamos al lio!"
   ]
  },
  {
   "cell_type": "markdown",
   "metadata": {},
   "source": [
    "# Importar librerías"
   ]
  },
  {
   "cell_type": "markdown",
   "metadata": {},
   "source": [
    "# Preprocesado del conjunto de datos"
   ]
  },
  {
   "cell_type": "markdown",
   "metadata": {},
   "source": [
    "# Generar modelo\n"
   ]
  },
  {
   "cell_type": "markdown",
   "metadata": {},
   "source": [
    "# Comprobaciones"
   ]
  }
 ],
 "metadata": {
  "kernelspec": {
   "display_name": "Python 2",
   "language": "python",
   "name": "python2"
  },
  "language_info": {
   "codemirror_mode": {
    "name": "ipython",
    "version": 3
   },
   "file_extension": ".py",
   "mimetype": "text/x-python",
   "name": "python",
   "nbconvert_exporter": "python",
   "pygments_lexer": "ipython3",
   "version": "3.6.7"
  }
 },
 "nbformat": 4,
 "nbformat_minor": 2
}
