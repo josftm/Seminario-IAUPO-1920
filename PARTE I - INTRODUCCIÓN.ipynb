{
 "cells": [
  {
   "cell_type": "markdown",
   "metadata": {},
   "source": [
    "<img src=\"src/logo.png\" width=\"115px\" style=\"float: right;\">\n",
    "<div>\n",
    "<h1 style=\"margin-top:10pt;\">Ejercicio 1: Familiarizarse con Jupyter y TensorFlow</h1>\n",
    "<h3 style=\"margin-top:10pt;\">Inteligencia Artificial - Grado en Ingeniería Informática en Sistemas de Información</h3>\n",
    "<h4 style=\"margin-top:10pt; font-style:italic; margin-bottom:15pt\">José Francisco Torres Maldonado - jftormal@upo.es</h4>\n",
    "</div>\n",
    "\n",
    "---\n",
    "Bienvenid@ a tu primera misión!\n",
    "\n",
    "Este cuaderno está diseñado para que conózcas un poco las herramientas con las que vamos a trabajar cuando llegue el momento de enseñar a nuestro sistema. En concreto, los objetivos de esta primera misión son:\n",
    "\n",
    "- *Conocer brevemente el funcionamiento de Jupyter Notebooks.*\n",
    "- *Razonar y desarrollar algunas funciones que nos harán falta para pre-procesar datos.*\n",
    "- *Aprender el funcionamiento básico de TensorFlow.*\n",
    "\n",
    "Vamos a usar Python como lenguaje de programación, por lo que partimos de que todos sabemos programar (o hacer el mítico \"hello world\"), en Python.\n",
    "\n",
    "¿Qué, que no te llevas bien con Python? no te preocupes... NO ES UN EXAMEN!"
   ]
  },
  {
   "cell_type": "markdown",
   "metadata": {},
   "source": [
    "# Jupyter Notebooks: Markdown y celdas de código"
   ]
  },
  {
   "cell_type": "markdown",
   "metadata": {},
   "source": [
    "# Librerías básicas"
   ]
  },
  {
   "cell_type": "markdown",
   "metadata": {},
   "source": [
    "### Numpy"
   ]
  },
  {
   "cell_type": "markdown",
   "metadata": {},
   "source": [
    "### CV2 & matplotlib"
   ]
  },
  {
   "cell_type": "markdown",
   "metadata": {},
   "source": [
    "### Os"
   ]
  },
  {
   "cell_type": "markdown",
   "metadata": {},
   "source": [
    "# TensorFlow"
   ]
  }
 ],
 "metadata": {
  "kernelspec": {
   "display_name": "Python 2",
   "language": "python",
   "name": "python2"
  },
  "language_info": {
   "codemirror_mode": {
    "name": "ipython",
    "version": 3
   },
   "file_extension": ".py",
   "mimetype": "text/x-python",
   "name": "python",
   "nbconvert_exporter": "python",
   "pygments_lexer": "ipython3",
   "version": "3.6.7"
  }
 },
 "nbformat": 4,
 "nbformat_minor": 2
}
