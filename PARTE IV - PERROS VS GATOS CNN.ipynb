{
 "cells": [
  {
   "cell_type": "markdown",
   "metadata": {},
   "source": [
    "<img src=\"src/logo.png\" width=\"115px\" style=\"float: right;\">\n",
    "<div>\n",
    "<h1 style=\"margin-top:10pt;\">Ejercicio 3: Mejorar nuestros resultados con CNN</h1>\n",
    "<h3 style=\"margin-top:10pt;\">Inteligencia Artificial - Grado en Ingeniería Informática en Sistemas de Información</h3>\n",
    "<h4 style=\"margin-top:10pt; font-style:italic; margin-bottom:15pt\">José Francisco Torres Maldonado - jftormal@upo.es</h4>\n",
    "</div>\n",
    "\n",
    "---\n",
    "\n",
    "### Objetivo: Mejorar el resultado de nuestro modelo predictivo."
   ]
  },
  {
   "cell_type": "markdown",
   "metadata": {},
   "source": [
    "# Importar librerías"
   ]
  },
  {
   "cell_type": "code",
   "execution_count": null,
   "metadata": {},
   "outputs": [],
   "source": [
    "import cv2\n",
    "from imutils import paths\n",
    "import os\n",
    "import numpy as np\n",
    "from sklearn.preprocessing import LabelEncoder\n",
    "from keras.utils import np_utils\n",
    "#from sklearn.cross_validation import train_test_split #En el mac funciona\n",
    "from sklearn.model_selection import train_test_split   #En el pc del lab funciona\n",
    "import keras as keras\n",
    "%matplotlib inline\n",
    "import matplotlib\n",
    "import matplotlib.pyplot as plt\n",
    "import tensorflow as tf\n",
    "from IPython import display"
   ]
  },
  {
   "cell_type": "markdown",
   "metadata": {},
   "source": [
    "# Procesado del conjunto de datos"
   ]
  },
  {
   "cell_type": "code",
   "execution_count": null,
   "metadata": {},
   "outputs": [],
   "source": [
    "def imagen_como_vector(imagen, tam=(50,50)):\n",
    "    img = cv2.resize(imagen, tam)\n",
    "    img = img.reshape(50,50,3)\n",
    "    return img"
   ]
  },
  {
   "cell_type": "code",
   "execution_count": null,
   "metadata": {},
   "outputs": [],
   "source": [
    "datos = []\n",
    "etiquetas = []"
   ]
  },
  {
   "cell_type": "code",
   "execution_count": null,
   "metadata": {},
   "outputs": [],
   "source": [
    "listaImagenes = list(paths.list_images('src/dataset'))\n",
    "print(\"Numero de imagenes:\",len(listaImagenes))\n",
    "print(listaImagenes[0:5])"
   ]
  },
  {
   "cell_type": "code",
   "execution_count": null,
   "metadata": {},
   "outputs": [],
   "source": [
    "for (i, rutaImagen) in enumerate(listaImagenes):\n",
    "    imagen = cv2.imread(rutaImagen)\n",
    "    etiqueta = rutaImagen.split(os.path.sep)[-1].split(\".\")[0]\n",
    "    features = imagen_como_vector(imagen)\n",
    "    datos.append((features, rutaImagen))\n",
    "    etiquetas.append(etiqueta)"
   ]
  },
  {
   "cell_type": "code",
   "execution_count": null,
   "metadata": {},
   "outputs": [],
   "source": [
    "print(\"Total de imagenes:\",len(datos))\n",
    "print(\"Registro:\",datos[0])\n",
    "print(\"Imagen:\",datos[0][0])\n",
    "print(\"Tamanyo de cada imagen:\", datos[0][0].shape) #Equivale a 50x50x3 canales\n",
    "print(\"Ruta:\", datos[0][1])\n",
    "print(\"Etiqueta:\", etiquetas[0])"
   ]
  },
  {
   "cell_type": "code",
   "execution_count": null,
   "metadata": {},
   "outputs": [],
   "source": [
    "datosImagenes = [dat[0] for dat in datos]\n",
    "rutasImagenes = [dat[1] for dat in datos]"
   ]
  },
  {
   "cell_type": "code",
   "execution_count": null,
   "metadata": {},
   "outputs": [],
   "source": [
    "print(datosImagenes[0])\n",
    "print(rutasImagenes[0])"
   ]
  },
  {
   "cell_type": "code",
   "execution_count": null,
   "metadata": {},
   "outputs": [],
   "source": [
    "encoder = LabelEncoder()\n",
    "etiquetas = encoder.fit_transform(etiquetas)\n",
    "\n",
    "datosImagenes = np.array(datosImagenes) / 255.0\n",
    "etiquetas = np_utils.to_categorical(etiquetas,2)"
   ]
  },
  {
   "cell_type": "code",
   "execution_count": null,
   "metadata": {},
   "outputs": [],
   "source": [
    "print(\"Imagen de ejemplo:\",datosImagenes[0])\n",
    "print(\"Etiqueta de ejemplo:\",etiquetas[0])"
   ]
  },
  {
   "cell_type": "code",
   "execution_count": null,
   "metadata": {},
   "outputs": [],
   "source": [
    "(datosTraining, datosTest, etiquetasTraining, etiquetasTest, rutasTraining, RutasTest) = train_test_split(datosImagenes, etiquetas, rutasImagenes, test_size=0.30, random_state=42)"
   ]
  },
  {
   "cell_type": "code",
   "execution_count": null,
   "metadata": {},
   "outputs": [],
   "source": [
    "print(\"Tamaño del training:\",len(datosTraining))\n",
    "print(\"Tamaño del test:\",len(datosTest))"
   ]
  },
  {
   "cell_type": "markdown",
   "metadata": {},
   "source": [
    "# Generar modelo\n"
   ]
  },
  {
   "cell_type": "markdown",
   "metadata": {},
   "source": [
    "# Comprobaciones"
   ]
  },
  {
   "cell_type": "code",
   "execution_count": null,
   "metadata": {},
   "outputs": [],
   "source": [
    "def mostrar_resultado(idImagen):\n",
    "    rutabase = \"src/data/train/\"\n",
    "    rutacompleta = RutasTest[idImagen]\n",
    "    image = cv2.imread(rutacompleta)\n",
    "    plt.imshow(image)\n",
    "    plt.axis('off')\n",
    "    plt.show()\n",
    "    print(\"CLASE REAL: \\t\", real[idImagen])\n",
    "    print(\"CLASE PREDICHA:\\t\", predicciones[idImagen])\n",
    "    return rutacompleta"
   ]
  },
  {
   "cell_type": "code",
   "execution_count": null,
   "metadata": {},
   "outputs": [],
   "source": [
    "mostrar_resultado(5)"
   ]
  }
 ],
 "metadata": {
  "kernelspec": {
   "display_name": "Python 2",
   "language": "python",
   "name": "python2"
  },
  "language_info": {
   "codemirror_mode": {
    "name": "ipython",
    "version": 3
   },
   "file_extension": ".py",
   "mimetype": "text/x-python",
   "name": "python",
   "nbconvert_exporter": "python",
   "pygments_lexer": "ipython3",
   "version": "3.6.7"
  }
 },
 "nbformat": 4,
 "nbformat_minor": 2
}
